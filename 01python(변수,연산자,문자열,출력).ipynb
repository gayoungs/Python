{
 "cells": [
  {
   "cell_type": "markdown",
   "id": "63bc776e",
   "metadata": {},
   "source": [
    "#### 단축키 목록\n",
    "a : 위에 셀삽입  \n",
    "b : 아래에 셀 삽입  \n",
    "ctrl + enter : 코드실행  \n",
    "shift + enter : 코드 실행 후 다음 행으로 넘어감\n",
    "y : 프로그램모드  \n",
    "m : 마크다운 모드\n",
    "dd : 셀삭제  \n",
    "alt + a : 전체선택 + ctrl +enter 전체실행\n",
    "\n",
    "<hr/>\n",
    "파이썬 내장함수명으로 변수를 선언하게 되면, 기존의 내장 함수를 사용하지 못하는데,\n",
    "중지 버튼 눌러서 커널을 초기화 해주면 됩니다."
   ]
  },
  {
   "cell_type": "code",
   "execution_count": 7,
   "id": "8262d9d2",
   "metadata": {},
   "outputs": [
    {
     "name": "stdout",
     "output_type": "stream",
     "text": [
      "hello 1 3.14 True\n"
     ]
    }
   ],
   "source": [
    "# 변수\n",
    "# 세미콜론은 찍어도 되고, 찍지 않아도 됩니다.\n",
    "a = 'hello';# 문자열(크기제한x)\n",
    "b = 1 #숫자\n",
    "c = 3.14 # float\n",
    "d = True #False\n",
    "\n",
    "print(a, b, c, d)"
   ]
  },
  {
   "cell_type": "code",
   "execution_count": 11,
   "id": "84371834",
   "metadata": {},
   "outputs": [
    {
     "data": {
      "text/plain": [
       "2"
      ]
     },
     "execution_count": 11,
     "metadata": {},
     "output_type": "execute_result"
    }
   ],
   "source": [
    "# 연산자\n",
    "# +, -, *, /, %\n",
    "10*20\n",
    "20 / 3 # 파이썬 / 연산은 항상 실수형입니다\n",
    "20 % 3"
   ]
  },
  {
   "cell_type": "code",
   "execution_count": 16,
   "id": "59b5931e",
   "metadata": {},
   "outputs": [
    {
     "data": {
      "text/plain": [
       "False"
      ]
     },
     "execution_count": 16,
     "metadata": {},
     "output_type": "execute_result"
    }
   ],
   "source": [
    "# 연산자\n",
    "# ==, !=, >=, >, &, |\n",
    "# or and not\n",
    "\n",
    "True or False\n",
    "True | False\n",
    "\n",
    "not True\n",
    "True and True\n",
    "False & False\n",
    "\n",
    "\n"
   ]
  },
  {
   "cell_type": "markdown",
   "id": "4dcd023d",
   "metadata": {},
   "source": [
    "# 데이터 타입, 타입캐스팅, 타입확인\n",
    "int, float, bool, str"
   ]
  },
  {
   "cell_type": "code",
   "execution_count": 19,
   "id": "d6f56e10",
   "metadata": {},
   "outputs": [
    {
     "data": {
      "text/plain": [
       "bool"
      ]
     },
     "execution_count": 19,
     "metadata": {},
     "output_type": "execute_result"
    }
   ],
   "source": [
    "a = 10\n",
    "type(a)\n",
    "\n",
    "b = True\n",
    "type(b)"
   ]
  },
  {
   "cell_type": "code",
   "execution_count": 21,
   "id": "04e16296",
   "metadata": {},
   "outputs": [
    {
     "data": {
      "text/plain": [
       "3"
      ]
     },
     "execution_count": 21,
     "metadata": {},
     "output_type": "execute_result"
    }
   ],
   "source": [
    "a = int(3.14)\n",
    "a\n"
   ]
  },
  {
   "cell_type": "code",
   "execution_count": 20,
   "id": "be258039",
   "metadata": {},
   "outputs": [
    {
     "data": {
      "text/plain": [
       "3.14"
      ]
     },
     "execution_count": 20,
     "metadata": {},
     "output_type": "execute_result"
    }
   ],
   "source": [
    "b = float(\"3.14\")\n",
    "b"
   ]
  },
  {
   "cell_type": "code",
   "execution_count": 22,
   "id": "855be18f",
   "metadata": {},
   "outputs": [
    {
     "data": {
      "text/plain": [
       "True"
      ]
     },
     "execution_count": 22,
     "metadata": {},
     "output_type": "execute_result"
    }
   ],
   "source": [
    "c = bool(\"True\")\n",
    "c"
   ]
  },
  {
   "cell_type": "code",
   "execution_count": 27,
   "id": "7affe92f",
   "metadata": {},
   "outputs": [
    {
     "ename": "ValueError",
     "evalue": "invalid literal for int() with base 10: '홍길동'",
     "output_type": "error",
     "traceback": [
      "\u001b[1;31m---------------------------------------------------------------------------\u001b[0m",
      "\u001b[1;31mValueError\u001b[0m                                Traceback (most recent call last)",
      "Cell \u001b[1;32mIn[27], line 7\u001b[0m\n\u001b[0;32m      4\u001b[0m e \u001b[38;5;241m=\u001b[39m \u001b[38;5;28mbool\u001b[39m(\u001b[38;5;124m\"\u001b[39m\u001b[38;5;124msdfwef\u001b[39m\u001b[38;5;124m\"\u001b[39m)\n\u001b[0;32m      5\u001b[0m e\n\u001b[1;32m----> 7\u001b[0m e \u001b[38;5;241m=\u001b[39m \u001b[38;5;28mint\u001b[39m(\u001b[38;5;124m\"\u001b[39m\u001b[38;5;124m홍길동\u001b[39m\u001b[38;5;124m\"\u001b[39m)\n\u001b[0;32m      8\u001b[0m e\n",
      "\u001b[1;31mValueError\u001b[0m: invalid literal for int() with base 10: '홍길동'"
     ]
    }
   ],
   "source": [
    "d = str(3)\n",
    "d\n",
    "\n",
    "e = bool(\"sdfwef\")\n",
    "e\n",
    "\n",
    "e = int(\"홍길동\")\n",
    "e\n",
    "\n",
    "# 바꿀 수 없는 값은 에러\n",
    "# f = int(\"홍길동\")\n",
    "# f"
   ]
  },
  {
   "cell_type": "markdown",
   "id": "c8bbab6b",
   "metadata": {},
   "source": [
    "# 문자열 연산"
   ]
  },
  {
   "cell_type": "code",
   "execution_count": 30,
   "id": "c7c17088",
   "metadata": {},
   "outputs": [
    {
     "data": {
      "text/plain": [
       "'helloworld'"
      ]
     },
     "execution_count": 30,
     "metadata": {},
     "output_type": "execute_result"
    }
   ],
   "source": [
    "'hello' + 'world'"
   ]
  },
  {
   "cell_type": "code",
   "execution_count": 28,
   "id": "2ed59a3b",
   "metadata": {},
   "outputs": [
    {
     "data": {
      "text/plain": [
       "'hellohellohellohellohellohellohellohellohellohello'"
      ]
     },
     "execution_count": 28,
     "metadata": {},
     "output_type": "execute_result"
    }
   ],
   "source": [
    "'hello' * 10 # 문자열은 곱하기 연산이 가능항"
   ]
  },
  {
   "cell_type": "code",
   "execution_count": 44,
   "id": "978226c0",
   "metadata": {},
   "outputs": [],
   "source": [
    "# 'hello' + 10 # 서로 다른 타입을 더하기 연산시 에러발생"
   ]
  },
  {
   "cell_type": "code",
   "execution_count": 38,
   "id": "860e412c",
   "metadata": {},
   "outputs": [
    {
     "data": {
      "text/plain": [
       "\"나는 마음속으로 생각하고 있습니다.'python을 가르키기 싫다고..' 분명히 혼자할 수도 있을텐데...\""
      ]
     },
     "execution_count": 38,
     "metadata": {},
     "output_type": "execute_result"
    }
   ],
   "source": [
    "str = '나는 마음속으로 생각하고 있습니다.\\'python을 가르키기 싫다고..\\' 분명히 혼자할 수도 있을텐데...'\n",
    "str"
   ]
  },
  {
   "cell_type": "code",
   "execution_count": 34,
   "id": "4fe2b598",
   "metadata": {},
   "outputs": [
    {
     "name": "stdout",
     "output_type": "stream",
     "text": [
      "아 월요일이네 \n",
      "집에가고싶다\n"
     ]
    }
   ],
   "source": [
    "str = '아 월요일이네 \\n집에가고싶다'\n",
    "print(str)"
   ]
  },
  {
   "cell_type": "code",
   "execution_count": 35,
   "id": "07a56efc",
   "metadata": {},
   "outputs": [
    {
     "name": "stdout",
     "output_type": "stream",
     "text": [
      "아 월요일이네 \n",
      "집에가고싶다\n"
     ]
    }
   ],
   "source": [
    "str = '''아 월요일이네 \\n집에가고싶다'''\n",
    "print(str)"
   ]
  },
  {
   "cell_type": "markdown",
   "id": "1823b119",
   "metadata": {},
   "source": [
    "# 문자열 함수"
   ]
  },
  {
   "cell_type": "code",
   "execution_count": 43,
   "id": "7c61188a",
   "metadata": {},
   "outputs": [
    {
     "data": {
      "text/plain": [
       "19"
      ]
     },
     "execution_count": 43,
     "metadata": {},
     "output_type": "execute_result"
    }
   ],
   "source": [
    "# .찍고 탭=>\n",
    "# shift + tab\n",
    "str.count('아') # 아 의 개수\n",
    "\n",
    "str.find('집') # '집'의 위치\n",
    "\n",
    "str.replace('집', 'home') #원본 문자는 변경이 없다.\n",
    "\n",
    "str = str.replace('집', 'home')\n",
    "str\n",
    "\n",
    "str = '홍길동|20세|111-222-333'\n",
    "str.split('|')\n",
    "\n",
    "# 공통 내장 함수 -> 파이썬에서는 어디서든 사용할 수 있는 특정함수들이 있습니다.\n",
    "len(str)\n",
    "\n"
   ]
  },
  {
   "cell_type": "markdown",
   "id": "4bbd6709",
   "metadata": {},
   "source": [
    "# 출력의 형태"
   ]
  },
  {
   "cell_type": "code",
   "execution_count": 55,
   "id": "4a4f8d51",
   "metadata": {},
   "outputs": [
    {
     "name": "stdout",
     "output_type": "stream",
     "text": [
      "사과가  3 개 있습니다\n",
      "사과가3개 있습니다\n",
      "사과가-3-개 있습니다\n",
      "사과가 3개 있습니다\n"
     ]
    },
    {
     "data": {
      "text/plain": [
       "'사과가 3.000개 있습니다. 멜론은 10개 있는데. 헐 맛있겠다'"
      ]
     },
     "execution_count": 55,
     "metadata": {},
     "output_type": "execute_result"
    }
   ],
   "source": [
    "apple = 3\n",
    "print('사과가 ', apple, '개 있습니다')\n",
    "print('사과가', apple, '개 있습니다', sep='')\n",
    "print('사과가', apple, '개 있습니다', sep='-')\n",
    "\n",
    "# .format()\n",
    "print('사과가 {}개 있습니다'.format(apple))\n",
    "\n",
    "melon = 10\n",
    "\n",
    "'사과가 {}개 있습니다. 멜론은 {}개 있는데. {} 맛있겠다'.format(apple, melon, '헐')\n",
    "'사과가 {:.3f}개 있습니다. 멜론은 {:d}개 있는데. {:s} 맛있겠다'.format(apple, melon, '헐')"
   ]
  },
  {
   "cell_type": "markdown",
   "id": "694be884",
   "metadata": {},
   "source": [
    "# 입력\n",
    "input()\n",
    "\n",
    "Scanner scan = new Scanner(System.in)  \n",
    "a = scan.nextInt()"
   ]
  },
  {
   "cell_type": "code",
   "execution_count": 56,
   "id": "f557daa4",
   "metadata": {},
   "outputs": [
    {
     "name": "stdout",
     "output_type": "stream",
     "text": [
      "안녕하세요\n"
     ]
    },
    {
     "data": {
      "text/plain": [
       "'안녕하세요'"
      ]
     },
     "execution_count": 56,
     "metadata": {},
     "output_type": "execute_result"
    }
   ],
   "source": [
    "a = input()\n",
    "a"
   ]
  },
  {
   "cell_type": "code",
   "execution_count": 59,
   "id": "1da26d57",
   "metadata": {},
   "outputs": [
    {
     "name": "stdout",
     "output_type": "stream",
     "text": [
      "할일을 적으세요>집에가고싶죠?\n"
     ]
    },
    {
     "data": {
      "text/plain": [
       "'집에가고싶죠?'"
      ]
     },
     "execution_count": 59,
     "metadata": {},
     "output_type": "execute_result"
    }
   ],
   "source": [
    "a = input('할일을 적으세요>')\n",
    "a"
   ]
  },
  {
   "cell_type": "code",
   "execution_count": 60,
   "id": "1e95ceb9",
   "metadata": {},
   "outputs": [
    {
     "name": "stdout",
     "output_type": "stream",
     "text": [
      "정수로입력하세요>10\n"
     ]
    },
    {
     "data": {
      "text/plain": [
       "int"
      ]
     },
     "execution_count": 60,
     "metadata": {},
     "output_type": "execute_result"
    }
   ],
   "source": [
    "a = int(input('정수로입력하세요>'))\n",
    "a\n",
    "\n",
    "\n",
    "type(a)\n"
   ]
  }
 ],
 "metadata": {
  "kernelspec": {
   "display_name": "Python 3 (ipykernel)",
   "language": "python",
   "name": "python3"
  },
  "language_info": {
   "codemirror_mode": {
    "name": "ipython",
    "version": 3
   },
   "file_extension": ".py",
   "mimetype": "text/x-python",
   "name": "python",
   "nbconvert_exporter": "python",
   "pygments_lexer": "ipython3",
   "version": "3.11.4"
  }
 },
 "nbformat": 4,
 "nbformat_minor": 5
}
