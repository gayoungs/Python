{
 "cells": [
  {
   "cell_type": "markdown",
   "id": "60a61426",
   "metadata": {},
   "source": [
    "# 제어문 if elif else\n",
    "- 파이썬에서는 중괄호가 들여쓰기로 변환됩니다.\n"
   ]
  },
  {
   "cell_type": "code",
   "execution_count": 5,
   "id": "8fc10bf4",
   "metadata": {},
   "outputs": [
    {
     "name": "stdout",
     "output_type": "stream",
     "text": [
      "촉법소년 이시네요\n",
      "if문 끝\n"
     ]
    }
   ],
   "source": [
    "age = 10\n",
    "# if(age > 20){\n",
    "# }\n",
    "\n",
    "if age >= 20 :\n",
    "# print(age) 에러 (들여쓰기해야함)\n",
    "    print('당신은 성인입니다')\n",
    "elif age >= 17 :\n",
    "    print('당신은 고등학생입니다')  \n",
    "elif age >= 14 :\n",
    "    print('당신은 중학생입니다')\n",
    "else :\n",
    "     print('촉법소년 이시네요')\n",
    "        \n",
    "print('if문 끝')"
   ]
  },
  {
   "cell_type": "markdown",
   "id": "f1616f05",
   "metadata": {},
   "source": [
    "# 제어문 while"
   ]
  },
  {
   "cell_type": "code",
   "execution_count": 13,
   "id": "779a8956",
   "metadata": {},
   "outputs": [
    {
     "name": "stdout",
     "output_type": "stream",
     "text": [
      "hello 1\n",
      "hello 2\n",
      "hello 3\n",
      "hello 4\n",
      "hello 5\n",
      "hello 6\n",
      "hello 7\n",
      "hello 8\n",
      "hello 9\n",
      "hello 10\n",
      "현재 n의값: 11\n"
     ]
    }
   ],
   "source": [
    "n = 1\n",
    "while n <= 10 :\n",
    "    print('hello', n)\n",
    "    \n",
    "    n+=1\n",
    "    #n++ # ++은 파이썬에 없습니다.\n",
    "\n",
    "print('현재 n의값:', n)\n",
    "    \n",
    "    "
   ]
  },
  {
   "cell_type": "code",
   "execution_count": 17,
   "id": "2ef4d171",
   "metadata": {},
   "outputs": [
    {
     "name": "stdout",
     "output_type": "stream",
     "text": [
      "55\n"
     ]
    }
   ],
   "source": [
    "# 1~10까지 합계 구한 사람만 쉬는시간\n",
    "sum = 0\n",
    "n = 1\n",
    "\n",
    "while n <= 10:\n",
    "    sum += n\n",
    "    n += 1\n",
    "print(sum)\n"
   ]
  },
  {
   "cell_type": "markdown",
   "id": "c4386cad",
   "metadata": {},
   "source": [
    "# for문\n",
    "- 향상된 포문과 유사함\n"
   ]
  },
  {
   "cell_type": "code",
   "execution_count": 18,
   "id": "93448e92",
   "metadata": {},
   "outputs": [
    {
     "name": "stdout",
     "output_type": "stream",
     "text": [
      "1\n",
      "2\n",
      "3\n",
      "4\n",
      "5\n",
      "6\n",
      "7\n",
      "8\n",
      "9\n"
     ]
    }
   ],
   "source": [
    "# for i in 순서를 가지고 있는 요소 :\n",
    "for i in [1,2,3,4,5,6,7,8,9] :\n",
    "    print(i)"
   ]
  },
  {
   "cell_type": "code",
   "execution_count": 19,
   "id": "2f92a557",
   "metadata": {},
   "outputs": [
    {
     "name": "stdout",
     "output_type": "stream",
     "text": [
      "안\n",
      "녕\n",
      "하\n",
      "세\n",
      "요\n",
      " \n",
      "오\n",
      "늘\n",
      "은\n",
      " \n",
      "날\n",
      "씨\n",
      "가\n",
      " \n",
      "덥\n",
      "네\n",
      "요\n"
     ]
    }
   ],
   "source": [
    "for i in '안녕하세요 오늘은 날씨가 덥네요' :\n",
    "    print(i)"
   ]
  },
  {
   "cell_type": "code",
   "execution_count": 28,
   "id": "c245bfe4",
   "metadata": {},
   "outputs": [
    {
     "name": "stdout",
     "output_type": "stream",
     "text": [
      "0 1 2 3 4 5 6 7 8 9 "
     ]
    }
   ],
   "source": [
    "# range(10) - 0~10미만\n",
    "for i in range(10) :\n",
    "    print(i, end=' ')"
   ]
  },
  {
   "cell_type": "code",
   "execution_count": 29,
   "id": "fdd879ba",
   "metadata": {},
   "outputs": [
    {
     "name": "stdout",
     "output_type": "stream",
     "text": [
      "1 2 3 4 5 6 7 8 9 "
     ]
    }
   ],
   "source": [
    "for i in range(1, 10) : # 1이상 10미만\n",
    "    print(i, end=' ')    "
   ]
  },
  {
   "cell_type": "code",
   "execution_count": 30,
   "id": "62a03dd6",
   "metadata": {},
   "outputs": [
    {
     "name": "stdout",
     "output_type": "stream",
     "text": [
      "1 3 5 7 9 "
     ]
    }
   ],
   "source": [
    "for i in range(1, 10, 2) : # 1이상 10미만, 스탭=2\n",
    "    print(i, end=' ')    "
   ]
  },
  {
   "cell_type": "markdown",
   "id": "14bf98cd",
   "metadata": {},
   "source": [
    "### 탈출문 break, continue, pass"
   ]
  },
  {
   "cell_type": "code",
   "execution_count": 40,
   "id": "4d35f3e4",
   "metadata": {},
   "outputs": [
    {
     "name": "stdout",
     "output_type": "stream",
     "text": [
      "1\n",
      "2\n",
      "3\n",
      "4\n"
     ]
    }
   ],
   "source": [
    "for i in range(1,11) : # 1~11미만\n",
    "\n",
    "    \n",
    "    if i == 5 :\n",
    "        break\n",
    "        # continue\n",
    "        \n",
    "    print(i)"
   ]
  },
  {
   "cell_type": "code",
   "execution_count": 42,
   "id": "6f2b0738",
   "metadata": {},
   "outputs": [
    {
     "name": "stdout",
     "output_type": "stream",
     "text": [
      "1\n"
     ]
    }
   ],
   "source": [
    "# pass 다음으로 넘어감 -> if, for비워두면 에러가 발생 pass를 쓰고 넘어감\n",
    "if True :\n",
    "    pass\n",
    "\n",
    "print(1)"
   ]
  },
  {
   "cell_type": "markdown",
   "id": "24e8c1b2",
   "metadata": {},
   "source": [
    "### 데이터구조 list"
   ]
  },
  {
   "cell_type": "code",
   "execution_count": 48,
   "id": "77a75d91",
   "metadata": {},
   "outputs": [
    {
     "data": {
      "text/plain": [
       "[0, 1, 2, 3, 4, 5, 6, 7, 8, 9]"
      ]
     },
     "execution_count": 48,
     "metadata": {},
     "output_type": "execute_result"
    }
   ],
   "source": [
    "# 리스트는 순서를 가지는 자료형 (ex: 어레이리스트)\n",
    "a = [] #빈 리스트\n",
    "a = list() #빈 리스트\n",
    "a = [1,2,3,4,5,6,7,8,9]\n",
    "a = list(range(10))\n",
    "a"
   ]
  },
  {
   "cell_type": "code",
   "execution_count": 73,
   "id": "b382cf25",
   "metadata": {},
   "outputs": [],
   "source": [
    "# append - 끝에 추가\n",
    "# insert - 중간에 추가\n",
    "# remove - 삭제\n",
    "# 공용함수 del - 삭제\n",
    "a.append(10)"
   ]
  },
  {
   "cell_type": "code",
   "execution_count": 77,
   "id": "345799ec",
   "metadata": {},
   "outputs": [
    {
     "data": {
      "text/plain": [
       "[0, 'hello', 1, 2, 3, 4, 5, 6, 7, 8, 9, 10, 10, 10, 10, 10, 10]"
      ]
     },
     "execution_count": 77,
     "metadata": {},
     "output_type": "execute_result"
    }
   ],
   "source": [
    "a"
   ]
  },
  {
   "cell_type": "code",
   "execution_count": 61,
   "id": "942c5dcd",
   "metadata": {},
   "outputs": [],
   "source": [
    "a.insert(1, 'hello') #인덱스, 값"
   ]
  },
  {
   "cell_type": "code",
   "execution_count": 62,
   "id": "7cc94097",
   "metadata": {},
   "outputs": [
    {
     "data": {
      "text/plain": [
       "[0, 'hello', 1, 2, 3, 4, 5, 6, 7, 8, 9, 10]"
      ]
     },
     "execution_count": 62,
     "metadata": {},
     "output_type": "execute_result"
    }
   ],
   "source": [
    "a"
   ]
  },
  {
   "cell_type": "code",
   "execution_count": 78,
   "id": "4108e907",
   "metadata": {},
   "outputs": [],
   "source": [
    "a.remove('hello') # 값으로 삭제 (가장 첫번째 발견되는)"
   ]
  },
  {
   "cell_type": "code",
   "execution_count": 79,
   "id": "66dff5c9",
   "metadata": {},
   "outputs": [
    {
     "data": {
      "text/plain": [
       "[0, 1, 2, 3, 4, 5, 6, 7, 8, 9, 10, 10, 10, 10, 10, 10]"
      ]
     },
     "execution_count": 79,
     "metadata": {},
     "output_type": "execute_result"
    }
   ],
   "source": [
    "del(a[0]) # 인덱스 번호로 삭제할 때는 공용내장함수 del"
   ]
  },
  {
   "cell_type": "code",
   "execution_count": 80,
   "id": "004ca0b0",
   "metadata": {},
   "outputs": [],
   "source": [
    "del(a[0]) # 인덱스 번호로 삭제할 때는 공용내장함수 del"
   ]
  },
  {
   "cell_type": "code",
   "execution_count": 90,
   "id": "6315676c",
   "metadata": {},
   "outputs": [],
   "source": [
    "del(a[len(a)-1]) # 인덱스 번호로 삭제할 때는 공용내장함수 del"
   ]
  },
  {
   "cell_type": "code",
   "execution_count": 91,
   "id": "e6fee99c",
   "metadata": {},
   "outputs": [
    {
     "data": {
      "text/plain": [
       "[1, 2, 3, 4, 5, 6, 7, 8, 9, 10]"
      ]
     },
     "execution_count": 91,
     "metadata": {},
     "output_type": "execute_result"
    }
   ],
   "source": [
    "a"
   ]
  },
  {
   "cell_type": "markdown",
   "id": "03e60dcf",
   "metadata": {},
   "source": [
    "## 인덱싱,슬라이싱"
   ]
  },
  {
   "cell_type": "code",
   "execution_count": 94,
   "id": "96bf476b",
   "metadata": {},
   "outputs": [
    {
     "data": {
      "text/plain": [
       "[10, 2, 3, 4, 5]"
      ]
     },
     "execution_count": 94,
     "metadata": {},
     "output_type": "execute_result"
    }
   ],
   "source": [
    "# 리스트 인덱싱 - 리스트의 인덱스 번호로 값을 변경, 확인\n",
    "a = [1,2,3,4,5]\n",
    "a[0] = 10 # 값의 변경\n",
    "a"
   ]
  },
  {
   "cell_type": "code",
   "execution_count": 104,
   "id": "89e4fd4a",
   "metadata": {},
   "outputs": [
    {
     "name": "stdout",
     "output_type": "stream",
     "text": [
      "[0, 1, 2, 3, 4, 5, 6, 7, 8, 9]\n",
      "[0, 1, 2]\n",
      "[0, 2]\n",
      "[0, 1, 2, 3, 4]\n",
      "[3, 4, 5, 6, 7, 8, 9]\n",
      "[0, 3, 6, 9]\n"
     ]
    }
   ],
   "source": [
    "# 리스트 슬라이싱 - 리스트[시작: 끝: 스탭] # 끝지점 미만까지 슬라이싱\n",
    "a = list(range(10))\n",
    "print(a)\n",
    "print( a[0: 3] ) # 0~3미만 리스트 슬라이싱\n",
    "print( a[0: 3: 2] )\n",
    "print( a[ :5]) # 비워두면 처음부터\n",
    "print( a[3: ])\n",
    "\n",
    "print( a[: :3]) # 시작~끝 ~3스탭마다\n"
   ]
  },
  {
   "cell_type": "code",
   "execution_count": 110,
   "id": "d6982f78",
   "metadata": {},
   "outputs": [
    {
     "data": {
      "text/plain": [
       "'?'"
      ]
     },
     "execution_count": 110,
     "metadata": {},
     "output_type": "execute_result"
    }
   ],
   "source": [
    "# 문자열도 리스트입니다\n",
    "str = '아 점심먹을 시간인데.. 수업을 더 할껀데?'\n",
    "str[0]\n",
    "str[len(str) - 1]\n",
    "# str[:3] # 문자열도 인덱싱 슬라이싱 됩니다.\n",
    "\n",
    "# for i in str :\n",
    "#     print(i, end='')"
   ]
  },
  {
   "cell_type": "code",
   "execution_count": null,
   "id": "6ba00828",
   "metadata": {},
   "outputs": [],
   "source": []
  },
  {
   "cell_type": "code",
   "execution_count": null,
   "id": "4d6ae5f9",
   "metadata": {},
   "outputs": [],
   "source": []
  },
  {
   "cell_type": "code",
   "execution_count": null,
   "id": "9fcf1b0b",
   "metadata": {},
   "outputs": [],
   "source": []
  },
  {
   "cell_type": "code",
   "execution_count": null,
   "id": "b4055c32",
   "metadata": {},
   "outputs": [],
   "source": []
  },
  {
   "cell_type": "code",
   "execution_count": null,
   "id": "fd74e035",
   "metadata": {},
   "outputs": [],
   "source": []
  }
 ],
 "metadata": {
  "kernelspec": {
   "display_name": "Python 3 (ipykernel)",
   "language": "python",
   "name": "python3"
  },
  "language_info": {
   "codemirror_mode": {
    "name": "ipython",
    "version": 3
   },
   "file_extension": ".py",
   "mimetype": "text/x-python",
   "name": "python",
   "nbconvert_exporter": "python",
   "pygments_lexer": "ipython3",
   "version": "3.11.4"
  }
 },
 "nbformat": 4,
 "nbformat_minor": 5
}
